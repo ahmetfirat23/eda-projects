{
 "cells": [
  {
   "source": [
    "# Where to open a new coffee shop?\n",
    "\n",
    "## 📖 Background\n",
    "You are helping a client who owns coffee shops in Colorado. The company's coffee shops serve high-quality and responsibly sourced coffee,  pastries, and sandwiches. They operate three locations in Fort Collins and want to expand into Denver. \n",
    "\n",
    "Your client believes that the ideal location for a new store is close to affluent households, and the store appeals to the 20-35 year old demographic.\n",
    " \n",
    "Your team collected geographical and demographic information about Denver's neighborhoods to assist the search. They also collected data for Starbucks stores in Denver. Starbucks and the new coffee shops do not compete for the same clients; the team included their location as a reference."
   ],
   "metadata": {
    "pycharm": {
     "name": "#%% md\n"
    }
   },
   "id": "9a9ada08-c9f0-466f-91a0-265fa539f9f5",
   "cell_type": "markdown"
  },
  {
   "source": [
    "## 💾 The data\n",
    "You have assembled information from three different sources ([locations](https://github.com/chrismeller/), [neighborhoods](http://data.denvergov.org), [demographics](https://www.census.gov/)):\n",
    "\n",
    "#### Starbucks locations in Denver, Colorado\n",
    "- \"StoreNumber\" - Store Number as assigned by Starbucks\n",
    "- \"Name\" - Name identifier for the store\n",
    "- \"PhoneNumber\" - Phone number for the store\n",
    "- \"Street 1, 2, and 3\" - Address for the store\n",
    "- \"PostalCode\" - Zip code of the store\n",
    "- \"Longitude, Latitude\" - Coordinates of the store\n",
    "\n",
    "#### Neighborhoods' geographical information\n",
    "- \"NBHD_ID\" - Neighborhood ID (matches the census information)\n",
    "- \"NBHD_NAME\" - Name of the statistical neighborhood\n",
    "- \"Geometry\" - Polygon that defines the neighborhood\n",
    "\n",
    "#### Demographic information\n",
    "- \"NBHD_ID\" - Neighborhood ID (matches the geographical information)\n",
    "- \"NBHD_NAME' - Nieghborhood name\n",
    "- \"POPULATION_2010' - Population in 2010\n",
    "- \"AGE_ \" - Number of people in each age bracket (< 18, 18-34, 35-65, and > 65)\n",
    "- \"NUM_HOUSEHOLDS\" - Number of households in the neighborhood\n",
    "- \"FAMILIES\" - Number of families in the neighborhood\n",
    "- \"NUM_HHLD_100K+\" - Number of households with income above 100 thousand USD per year\n",
    "\n",
    "_Starbucks locations were scrapped from the Starbucks store locator webpage by [Chris Meller](https://github.com/chrismeller/)._  \n",
    "_Statistical Neighborhood information from the [City of Denver Open Data Catalog](http://data.denvergov.org), [CC BY 3.0](http://creativecommons.org/licenses/by/3.0/) license._      \n",
    "_Census information from the [United States Census Bureau](https://www.census.gov/). Publicly available information._"
   ],
   "metadata": {
    "tags": [],
    "pycharm": {
     "name": "#%% md\n"
    }
   },
   "id": "10dcc269-3659-4851-99cd-f1ffb7f818aa",
   "cell_type": "markdown"
  },
  {
   "source": [
    "%%capture\n",
    "pip install geopandas"
   ],
   "metadata": {
    "pycharm": {
     "name": "#%%\n"
    }
   },
   "id": "20fc09c0-2543-4223-8dd8-6b5c529b01c6",
   "cell_type": "code",
   "execution_count": 1,
   "outputs": []
  },
  {
   "source": [
    "import pandas as pd\n",
    "import geopandas as gpd\n",
    "denver = pd.read_csv('./data/denver.csv')\n",
    "denver"
   ],
   "metadata": {
    "pycharm": {
     "name": "#%%\n",
     "is_executing": true
    }
   },
   "id": "40251159-3eea-47f8-bfb4-09e38d5ced65",
   "cell_type": "code",
   "execution_count": null,
   "outputs": []
  },
  {
   "source": [
    "neighborhoods = gpd.read_file('./data/neighborhoods.shp')\n",
    "neighborhoods"
   ],
   "metadata": {
    "pycharm": {
     "name": "#%%\n"
    }
   },
   "id": "d23db358-bc4c-4558-b42c-4dedf9f15978",
   "cell_type": "code",
   "execution_count": null,
   "outputs": []
  },
  {
   "source": [
    "census = pd.read_csv('./data/census.csv')\n",
    "census['NUM_HHLD_100K+'] = census['NUM_HHLD_100K+'].fillna(0)\n",
    "census"
   ],
   "metadata": {
    "pycharm": {
     "name": "#%%\n"
    }
   },
   "id": "02f642fa-94e3-4339-8061-d8fbc4e54e66",
   "cell_type": "code",
   "execution_count": null,
   "outputs": []
  },
  {
   "source": [
    "map = gpd.GeoDataFrame(neighborhoods['geometry'])\n",
    "locations = gpd.GeoDataFrame(denver, geometry=gpd.points_from_xy(denver.Latitude, denver.Longitude))\n",
    "base = map.plot(figsize=(40,20), edgecolor='black', linewidth = 2, legend=True)\n",
    "locations.plot(ax= base ,marker='*', color='red', markersize=1000);"
   ],
   "metadata": {
    "pycharm": {
     "name": "#%%\n"
    }
   },
   "id": "6e571d75-07f7-49e9-bc31-a01c90248965",
   "cell_type": "code",
   "execution_count": null,
   "outputs": []
  },
  {
   "source": [
    "census['SCORE'] = 7/10 * census['AGE_18_TO_34'] + 3/10 * census['NUM_HHLD_100K+']\n",
    "score = census.sort_values(by='SCORE', ascending =False )\n",
    "score[0:3]"
   ],
   "metadata": {
    "pycharm": {
     "name": "#%%\n"
    }
   },
   "id": "0266da3b-24c7-490c-98cd-ab5a1df9054a",
   "cell_type": "code",
   "execution_count": null,
   "outputs": []
  },
  {
   "source": [
    "## 💪 Challenge\n",
    "Provide your client a list of neighborhoods in Denver where they should consider expanding. Include:\n",
    "* A visualization of Denver's neighborhoods and the Starbucks store locations.\n",
    "* Find the neighborhoods with the highest proportion of people in the target demographic.\n",
    "* Select the top three neighborhoods where your client should focus their search."
   ],
   "metadata": {
    "pycharm": {
     "name": "#%% md\n"
    }
   },
   "id": "54e0ae0c-ff96-443e-9ff3-718f1ab846e5",
   "cell_type": "markdown"
  }
 ],
 "metadata": {
  "editor": "DataCamp Workspace",
  "kernelspec": {
   "display_name": "Python 3 (ipykernel)",
   "language": "python",
   "name": "python3"
  },
  "language_info": {
   "codemirror_mode": {
    "name": "ipython",
    "version": 3
   },
   "file_extension": ".py",
   "mimetype": "text/x-python",
   "name": "python",
   "nbconvert_exporter": "python",
   "pygments_lexer": "ipython3",
   "version": "3.8.10"
  }
 },
 "nbformat": 4,
 "nbformat_minor": 5
}